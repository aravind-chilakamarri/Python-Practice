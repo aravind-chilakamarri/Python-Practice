{
  "nbformat": 4,
  "nbformat_minor": 0,
  "metadata": {
    "colab": {
      "provenance": [],
      "authorship_tag": "ABX9TyN7DtKFGS2BZmeXnqq8XS4g",
      "include_colab_link": true
    },
    "kernelspec": {
      "name": "python3",
      "display_name": "Python 3"
    },
    "language_info": {
      "name": "python"
    }
  },
  "cells": [
    {
      "cell_type": "markdown",
      "metadata": {
        "id": "view-in-github",
        "colab_type": "text"
      },
      "source": [
        "<a href=\"https://colab.research.google.com/github/aravind-chilakamarri/Python-Practice/blob/main/classes.ipynb\" target=\"_parent\"><img src=\"https://colab.research.google.com/assets/colab-badge.svg\" alt=\"Open In Colab\"/></a>"
      ]
    },
    {
      "cell_type": "code",
      "execution_count": 7,
      "metadata": {
        "colab": {
          "base_uri": "https://localhost:8080/"
        },
        "id": "jZn7mgZ7jtrQ",
        "outputId": "df9459a0-1999-487a-acc0-45af3a6422b3"
      },
      "outputs": [
        {
          "output_type": "stream",
          "name": "stdout",
          "text": [
            "Aravind Chilakamarri\n",
            "Aravind.Chilakamarri@company.com\n"
          ]
        }
      ],
      "source": [
        "# python object oreinted programming\n",
        "#class and instances\n",
        "\n",
        "class Employee:\n",
        "\n",
        "  def __init__(self, first, last, pay):\n",
        "    self.first = first\n",
        "    self.last = last\n",
        "    self.pay = pay\n",
        "    self.email = first + '.' + last + '@company.com'\n",
        "\n",
        "  def fullName(self):\n",
        "    return f'{self.first} {self.last}'\n",
        "\n",
        "\n",
        "emp_1 = Employee('Aravind','Chilakamarri',50000)\n",
        "emp_2 = Employee('John','Doe',60000)\n",
        "\n",
        "\n",
        "print(emp_1.fullName())\n",
        "print(emp_1.email)"
      ]
    },
    {
      "cell_type": "code",
      "source": [
        "\n",
        "# emp_1.first = 'Aravind'\n",
        "# emp_1.last = 'Chilakamarri'\n",
        "# emp_1.email = 'aravind.chil@company.com'\n",
        "# emp_1.pay = 50000\n",
        "\n",
        "# emp_2.first = 'John'\n",
        "# emp_2.last = 'Doe'\n",
        "# emp_2.email = 'john.dow@company.com'\n",
        "# emp_2.pay = 60000\n",
        "\n",
        "# print(emp_1.email)\n",
        "# print(emp_2.email)\n"
      ],
      "metadata": {
        "id": "aD4yv0ftkbw-"
      },
      "execution_count": 6,
      "outputs": []
    },
    {
      "cell_type": "code",
      "source": [
        "# Class Variables\n",
        "\n",
        "class Employee:\n",
        "  raise_amount = 1.04\n",
        "  num_of_emps = 0\n",
        "  def __init__(self, first, last, pay):\n",
        "    self.first = first\n",
        "    self.last = last\n",
        "    self.pay = pay\n",
        "    self.email = first + '.' + last + '@company.com'\n",
        "\n",
        "    Employee.num_of_emps += 1\n",
        "\n",
        "  def fullName(self):\n",
        "    return f'{self.first} {self.last}'\n",
        "\n",
        "  def applyRaise(self):\n",
        "    self.pay = int(self.pay * self.raise_amount)\n",
        "\n",
        "print(Employee.num_of_emps)\n",
        "emp_1 = Employee('Aravind','Chilakamarri',50000)\n",
        "emp_2 = Employee('John','Doe',60000)\n",
        "\n",
        "\n",
        "print(Employee.num_of_emps)"
      ],
      "metadata": {
        "colab": {
          "base_uri": "https://localhost:8080/"
        },
        "id": "QzdfpTBulNDU",
        "outputId": "634c7b5e-c87d-470f-af7c-cd424d1e5d09"
      },
      "execution_count": 14,
      "outputs": [
        {
          "output_type": "stream",
          "name": "stdout",
          "text": [
            "0\n",
            "2\n"
          ]
        }
      ]
    },
    {
      "cell_type": "code",
      "source": [
        "# Class methods\n",
        "\n",
        "class Employee:\n",
        "  raise_amount = 1.04\n",
        "  num_of_emps = 0\n",
        "  def __init__(self, first, last, pay):\n",
        "    self.first = first\n",
        "    self.last = last\n",
        "    self.pay = pay\n",
        "    self.email = first + '.' + last + '@company.com'\n",
        "\n",
        "    Employee.num_of_emps += 1\n",
        "\n",
        "  def fullName(self):\n",
        "    return f'{self.first} {self.last}'\n",
        "\n",
        "  def applyRaise(self):\n",
        "    self.pay = int(self.pay * self.raise_amount)\n",
        "\n",
        "  @classmethod\n",
        "  def setRaiseAmount(cls, amount):\n",
        "    cls.raise_amount = amount\n",
        "\n",
        "emp_1 = Employee('Aravind','Chilakamarri',50000)\n",
        "emp_2 = Employee('John','Doe',60000)\n",
        "\n",
        "Employee.setRaiseAmount(1.05)\n",
        "\n",
        "print(Employee.raise_amount)\n",
        "print(emp_1.raise_amount)\n",
        "print(emp_2.raise_amount)\n",
        "\n"
      ],
      "metadata": {
        "colab": {
          "base_uri": "https://localhost:8080/"
        },
        "id": "bsz5AC-Npnfc",
        "outputId": "141f5672-2ce4-4ca7-bb27-6714dfdffbf8"
      },
      "execution_count": 19,
      "outputs": [
        {
          "output_type": "stream",
          "name": "stdout",
          "text": [
            "1.05\n",
            "1.05\n",
            "1.05\n"
          ]
        }
      ]
    },
    {
      "cell_type": "code",
      "source": [
        "# Using Class Method as an alternative constructors\n",
        "\n",
        "emp_str_1 = 'Jane-Doe-70000'\n",
        "emp_str_2 = 'Julius-Caesar-80000'\n",
        "emp_str_3 = 'James-Rambo-90000'\n",
        "\n",
        "first, last, pay = emp_str_1.split('-')\n",
        "\n",
        "new_emp_1 = Employee(first, last, pay)\n",
        "\n",
        "print(new_emp_1.email)\n",
        "print(new_emp_1.pay)"
      ],
      "metadata": {
        "colab": {
          "base_uri": "https://localhost:8080/"
        },
        "id": "wdPKIX4VvZ5L",
        "outputId": "2336a1c8-5044-441b-83c1-9d04bf590322"
      },
      "execution_count": 21,
      "outputs": [
        {
          "output_type": "stream",
          "name": "stdout",
          "text": [
            "Jane.Doe@company.com\n",
            "70000\n"
          ]
        }
      ]
    },
    {
      "cell_type": "code",
      "source": [
        "class Employee:\n",
        "  raise_amount = 1.04\n",
        "  num_of_emps = 0\n",
        "  def __init__(self, first, last, pay):\n",
        "    self.first = first\n",
        "    self.last = last\n",
        "    self.pay = pay\n",
        "    self.email = first + '.' + last + '@company.com'\n",
        "\n",
        "    Employee.num_of_emps += 1\n",
        "\n",
        "  def fullName(self):\n",
        "    return f'{self.first} {self.last}'\n",
        "\n",
        "  def applyRaise(self):\n",
        "    self.pay = int(self.pay * self.raise_amount)\n",
        "\n",
        "  @classmethod\n",
        "  def setRaiseAmount(cls, amount):\n",
        "    cls.raise_amount = amount\n",
        "\n",
        "  @classmethod\n",
        "  def fromString(cls, emp_str): #alternative constructor\n",
        "    first, last, pay = emp_str.split('-')\n",
        "    return cls(first, last, pay)\n",
        "\n",
        "\n",
        "emp_1 = Employee('Aravind','Chilakamarri',50000)\n",
        "emp_2 = Employee('John','Doe',60000)\n",
        "\n",
        "emp_str_1 = 'Jane-Doe-70000'\n",
        "emp_str_2 = 'Julius-Caesar-80000'\n",
        "emp_str_3 = 'James-Rambo-90000'\n",
        "\n",
        "new_emp_1 = Employee.fromString(emp_str_1)\n",
        "\n",
        "print(new_emp_1.email)\n",
        "print(new_emp_1.pay)"
      ],
      "metadata": {
        "colab": {
          "base_uri": "https://localhost:8080/"
        },
        "id": "jJh1bvt1xafj",
        "outputId": "dd7050f1-ac0e-4c9d-946f-ba59aeb879f0"
      },
      "execution_count": 22,
      "outputs": [
        {
          "output_type": "stream",
          "name": "stdout",
          "text": [
            "Jane.Doe@company.com\n",
            "70000\n"
          ]
        }
      ]
    },
    {
      "cell_type": "code",
      "source": [
        "# Static methods\n",
        "\n",
        "class Employee:\n",
        "  raise_amount = 1.04\n",
        "  num_of_emps = 0\n",
        "  def __init__(self, first, last, pay):\n",
        "    self.first = first\n",
        "    self.last = last\n",
        "    self.pay = pay\n",
        "    self.email = first + '.' + last + '@company.com'\n",
        "\n",
        "    Employee.num_of_emps += 1\n",
        "\n",
        "  def fullName(self):\n",
        "    return f'{self.first} {self.last}'\n",
        "\n",
        "  def applyRaise(self):\n",
        "    self.pay = int(self.pay * self.raise_amount)\n",
        "\n",
        "  @classmethod\n",
        "  def setRaiseAmount(cls, amount):\n",
        "    cls.raise_amount = amount\n",
        "\n",
        "  @classmethod\n",
        "  def fromString(cls, emp_str): #alternative constructor\n",
        "    first, last, pay = emp_str.split('-')\n",
        "    return cls(first, last, pay)\n",
        "\n",
        "  @staticmethod\n",
        "  def isWorkday(day):\n",
        "    if day.weekday() == 5 or day.weekday() == 6:\n",
        "      return False\n",
        "    return True\n",
        "\n",
        "emp_1 = Employee('Aravind','Chilakamarri',50000)\n",
        "emp_2 = Employee('John','Doe',60000)\n",
        "\n",
        "emp_str_1 = 'Jane-Doe-70000'\n",
        "emp_str_2 = 'Julius-Caesar-80000'\n",
        "emp_str_3 = 'James-Rambo-90000'\n",
        "\n",
        "new_emp_1 = Employee.fromString(emp_str_1)\n",
        "\n",
        "import datetime\n",
        "my_date = datetime.date(1990,12,12)\n",
        "\n",
        "print(new_emp_1.email)\n",
        "print(new_emp_1.pay)\n",
        "\n",
        "print(Employee.isWorkday(my_date))"
      ],
      "metadata": {
        "colab": {
          "base_uri": "https://localhost:8080/"
        },
        "id": "Sw8ouT3ayjYb",
        "outputId": "3f4601b3-3250-4488-bb1c-66a6f7e7722a"
      },
      "execution_count": 24,
      "outputs": [
        {
          "output_type": "stream",
          "name": "stdout",
          "text": [
            "Jane.Doe@company.com\n",
            "70000\n",
            "True\n"
          ]
        }
      ]
    },
    {
      "cell_type": "code",
      "source": [
        "# inheritance\n",
        "\n",
        "class Employee:\n",
        "  raise_amount = 1.04\n",
        "  num_of_emps = 0\n",
        "  def __init__(self, first, last, pay):\n",
        "    self.first = first\n",
        "    self.last = last\n",
        "    self.pay = pay\n",
        "    self.email = first + '.' + last + '@company.com'\n",
        "\n",
        "    Employee.num_of_emps += 1\n",
        "\n",
        "  def fullName(self):\n",
        "    return f'{self.first} {self.last}'\n",
        "\n",
        "  def applyRaise(self):\n",
        "    self.pay = int(self.pay * self.raise_amount)\n",
        "\n",
        "\n",
        "class Developer(Employee):\n",
        "  raise_amount = 1.10\n",
        "\n",
        "  def __init__(self, first, last, pay,prog_lang):\n",
        "    super().__init__(first,last,pay)\n",
        "    self.prog_lang = prog_lang\n",
        "\n",
        "class Manager(Employee):\n",
        "  def __init__(self, first, last, pay,employees=None):\n",
        "    super().__init__(first,last,pay)\n",
        "    if employees is None:\n",
        "      self.employees = []\n",
        "    else:\n",
        "      self.employees = employees\n",
        "\n",
        "  def addEmployee(self, emp):\n",
        "    if emp not in self.employees:\n",
        "      self.employees.append(emp)\n",
        "  def remove_emp(self, emp):\n",
        "    if emp in self.employees:\n",
        "      self.employees.remove(emp)\n",
        "  def print_emps(self):\n",
        "    for emp in self.employees:\n",
        "      print('-->',emp.fullName())\n",
        "\n",
        "\n",
        "# dev_1 = Employee('Aravind','Chilakamarri',50000)\n",
        "# dev_2 = Employee('John','Doe',60000)\n",
        "\n",
        "dev_1 = Developer('Aravind','Chilakamarri',50000,'Python')\n",
        "dev_2 = Developer('John','Doe',60000,'Java')\n",
        "\n",
        "mgr_1 = Manager('Sue','Smith', 90000,[dev_1])\n",
        "\n",
        "print(mgr_1.email)\n",
        "mgr_1.addEmployee(dev_2)\n",
        "mgr_1.print_emps()\n",
        "mgr_1.remove_emp(dev_1)\n",
        "mgr_1.print_emps()\n",
        "# print(help(Developer))\n",
        "# print(dev_1.email)\n",
        "# print(dev_1.prog_lang)"
      ],
      "metadata": {
        "colab": {
          "base_uri": "https://localhost:8080/"
        },
        "id": "WIbhgzhA3Iyq",
        "outputId": "1f0afd19-f8a6-4894-c01e-92c4fe797085"
      },
      "execution_count": 40,
      "outputs": [
        {
          "output_type": "stream",
          "name": "stdout",
          "text": [
            "Sue.Smith@company.com\n",
            "--> Aravind Chilakamarri\n",
            "--> John Doe\n",
            "--> John Doe\n"
          ]
        }
      ]
    },
    {
      "cell_type": "code",
      "source": [
        "print(dev_1.pay)\n",
        "dev_1.applyRaise()\n",
        "print(dev_1.pay)"
      ],
      "metadata": {
        "colab": {
          "base_uri": "https://localhost:8080/"
        },
        "id": "8bofIT6u4xXx",
        "outputId": "a896c5db-6faa-47bb-c480-752bab97e682"
      },
      "execution_count": 32,
      "outputs": [
        {
          "output_type": "stream",
          "name": "stdout",
          "text": [
            "50000\n",
            "55000\n"
          ]
        }
      ]
    },
    {
      "cell_type": "code",
      "source": [],
      "metadata": {
        "id": "OBxxljcL5nhR"
      },
      "execution_count": null,
      "outputs": []
    }
  ]
}