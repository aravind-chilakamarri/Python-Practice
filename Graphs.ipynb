{
  "nbformat": 4,
  "nbformat_minor": 0,
  "metadata": {
    "colab": {
      "provenance": [],
      "authorship_tag": "ABX9TyO4WocZdPw2G+YJPccn/705"
    },
    "kernelspec": {
      "name": "python3",
      "display_name": "Python 3"
    },
    "language_info": {
      "name": "python"
    }
  },
  "cells": [
    {
      "cell_type": "markdown",
      "source": [
        "# Adjacenecy List"
      ],
      "metadata": {
        "id": "fKQLooulCaaA"
      }
    },
    {
      "cell_type": "code",
      "execution_count": 10,
      "metadata": {
        "id": "LBfsgl35nQr3"
      },
      "outputs": [],
      "source": [
        "graph = {\n",
        "    'a' : ['c','b'],\n",
        "    'b' : ['d'],\n",
        "    'c' : ['e'],\n",
        "    'd' : ['f'],\n",
        "    'e' : [],\n",
        "    'f' : []\n",
        "};"
      ]
    },
    {
      "cell_type": "markdown",
      "source": [
        "# DFS"
      ],
      "metadata": {
        "id": "SmJf87AxCh_s"
      }
    },
    {
      "cell_type": "code",
      "source": [
        "# def depthFirstPrint(graph, root):\n",
        "#   stack = [root];\n",
        "\n",
        "#   while stack:\n",
        "#     current = stack.pop()\n",
        "#     print(current)\n",
        "#     for neighbor in graph[current]:\n",
        "#       stack.append(neighbor)\n",
        "\n",
        "def depthFirstPrint(graph, root):\n",
        "  print(root)\n",
        "  for neighbor in graph[root]:\n",
        "    depthFirstPrint(graph,neighbor)\n",
        "\n",
        "\n"
      ],
      "metadata": {
        "id": "BOR8deTpntih"
      },
      "execution_count": 6,
      "outputs": []
    },
    {
      "cell_type": "markdown",
      "source": [
        "# BFS"
      ],
      "metadata": {
        "id": "fO1U0pgBCmYm"
      }
    },
    {
      "cell_type": "code",
      "source": [
        "from collections import deque\n",
        "def breadthFirstPrint(graph, root):\n",
        "  queue = deque([root])\n",
        "  while queue:\n",
        "    current = queue.popleft()\n",
        "    print(current)\n",
        "    for neighbor in graph[current]:\n",
        "      queue.append(neighbor)"
      ],
      "metadata": {
        "id": "luPtAqVxs-n6"
      },
      "execution_count": 8,
      "outputs": []
    },
    {
      "cell_type": "code",
      "source": [
        "depthFirstPrint(graph, 'a')"
      ],
      "metadata": {
        "colab": {
          "base_uri": "https://localhost:8080/"
        },
        "id": "AjC1HiVboxAO",
        "outputId": "d2e2561c-ead1-473c-dab3-841e06015362"
      },
      "execution_count": 7,
      "outputs": [
        {
          "output_type": "stream",
          "name": "stdout",
          "text": [
            "a\n",
            "b\n",
            "d\n",
            "f\n",
            "c\n",
            "e\n"
          ]
        }
      ]
    },
    {
      "cell_type": "code",
      "source": [
        "breadthFirstPrint(graph,'a')"
      ],
      "metadata": {
        "colab": {
          "base_uri": "https://localhost:8080/"
        },
        "id": "bZ-q24tkoz9Q",
        "outputId": "ba86eda2-902f-4206-c347-6487d1ebe1cc"
      },
      "execution_count": 11,
      "outputs": [
        {
          "output_type": "stream",
          "name": "stdout",
          "text": [
            "a\n",
            "c\n",
            "b\n",
            "e\n",
            "d\n",
            "f\n"
          ]
        }
      ]
    },
    {
      "cell_type": "markdown",
      "source": [
        "# Has Path"
      ],
      "metadata": {
        "id": "9qlADKR852LP"
      }
    },
    {
      "cell_type": "code",
      "source": [
        "graph = {\n",
        "\n",
        "         \"f\": [\"g\",\"i\"],\n",
        "         \"g\": [\"h\"],\n",
        "         \"h\": [],\n",
        "         \"i\": [\"g\",\"k\"],\n",
        "         \"j\": [\"i\"],\n",
        "         \"k\": []\n",
        "}"
      ],
      "metadata": {
        "id": "2hdVqVPa6tWM"
      },
      "execution_count": 12,
      "outputs": []
    },
    {
      "cell_type": "code",
      "source": [
        "#DFS\n",
        "def hasPath(graph, src,dest):\n",
        "  if (src == dest):\n",
        "    return True\n",
        "\n",
        "  for neighbor in graph[src]:\n",
        "    if hasPath(graph, neighbor, dest):\n",
        "      return True\n",
        "  return False"
      ],
      "metadata": {
        "id": "A6ft6KSqt15U"
      },
      "execution_count": 13,
      "outputs": []
    },
    {
      "cell_type": "code",
      "source": [
        "hasPath(graph, 'f','k')"
      ],
      "metadata": {
        "colab": {
          "base_uri": "https://localhost:8080/"
        },
        "id": "IPMvHoo_7EOU",
        "outputId": "2f0722ea-268c-42b1-9310-c82af8f51491"
      },
      "execution_count": 18,
      "outputs": [
        {
          "output_type": "execute_result",
          "data": {
            "text/plain": [
              "True"
            ]
          },
          "metadata": {},
          "execution_count": 18
        }
      ]
    },
    {
      "cell_type": "code",
      "source": [
        "#BFS\n",
        "def hasPathBfs(graph, src, dest):\n",
        "  queue = deque([src])\n",
        "\n",
        "  while queue:\n",
        "    current = queue.popleft()\n",
        "    if current == dest:\n",
        "      return True\n",
        "\n",
        "    for neighbor in graph[current]:\n",
        "      queue.append(neighbor)\n",
        "  return False"
      ],
      "metadata": {
        "id": "r5QzvaWQ7OIc"
      },
      "execution_count": 22,
      "outputs": []
    },
    {
      "cell_type": "code",
      "source": [
        "hasPathBfs(graph, 'f','k')"
      ],
      "metadata": {
        "colab": {
          "base_uri": "https://localhost:8080/"
        },
        "id": "pXS8WN4DCAxR",
        "outputId": "1c032dfc-4544-40a6-c863-6e6650dd3316"
      },
      "execution_count": 25,
      "outputs": [
        {
          "output_type": "execute_result",
          "data": {
            "text/plain": [
              "True"
            ]
          },
          "metadata": {},
          "execution_count": 25
        }
      ]
    },
    {
      "cell_type": "markdown",
      "source": [
        "# Undirected Path"
      ],
      "metadata": {
        "id": "dqUE7X5A9j44"
      }
    },
    {
      "cell_type": "code",
      "source": [
        "edges = [\n",
        "    ['i','j'],\n",
        "    ['k','i'],\n",
        "    ['m','k'],\n",
        "    ['k','l'],\n",
        "    ['o','n']\n",
        "]\n",
        "\n",
        "# graph = {\n",
        "\n",
        "#          'i': ['j', 'k'],\n",
        "#          'j': ['i'],\n",
        "#          'k': ['i', 'm', 'l'],\n",
        "#          'l': ['k'],\n",
        "#          'm': ['k'],\n",
        "#          'n': ['n'],\n",
        "#          'o': ['o']\n",
        "# }\n"
      ],
      "metadata": {
        "id": "9XzbwAldCHZR"
      },
      "execution_count": 1,
      "outputs": []
    },
    {
      "cell_type": "code",
      "source": [
        "def buildGraph(edges):\n",
        "  from collections import defaultdict\n",
        "  graph = defaultdict(list)\n",
        "  for edge in edges:\n",
        "    graph[edge[0]].append(edge[1])\n",
        "    graph[edge[1]].append(edge[0])\n",
        "  return graph\n",
        "\n",
        "def hasPath(graph, src, dst, visited):\n",
        "  if src == dst:\n",
        "    return True\n",
        "  if src in visited:\n",
        "    return False\n",
        "  visited.add(src)\n",
        "  for neighbor in graph[src]:\n",
        "    if hasPath(graph, neighbor, dst, visited):\n",
        "      return True\n",
        "  return False\n",
        "\n",
        "def undirectedPath(edges, nodeA, nodeB):\n",
        "  graph = buildGraph(edges)\n",
        "  visited = set()\n",
        "  return hasPath(graph, nodeA, nodeB, visited)"
      ],
      "metadata": {
        "id": "kEQzqgb7ALzN"
      },
      "execution_count": 8,
      "outputs": []
    },
    {
      "cell_type": "code",
      "source": [
        "edges = [\n",
        "  ['i', 'j'],\n",
        "  ['k', 'i'],\n",
        "  ['m', 'k'],\n",
        "  ['k', 'l'],\n",
        "  ['o', 'n']\n",
        "]\n",
        "\n",
        "print(undirectedPath(edges, 'j', 'm'))\n",
        "edges = [\n",
        "  ['i', 'j'],\n",
        "  ['k', 'i'],\n",
        "  ['m', 'k'],\n",
        "  ['k', 'l'],\n",
        "  ['o', 'n']\n",
        "]\n",
        "\n",
        "print(undirectedPath(edges, 'm', 'j'))\n",
        "\n",
        "edges = [\n",
        "  ['i', 'j'],\n",
        "  ['k', 'i'],\n",
        "  ['m', 'k'],\n",
        "  ['k', 'l'],\n",
        "  ['o', 'n']\n",
        "];\n",
        "\n",
        "print(undirectedPath(edges, 'k', 'o'))"
      ],
      "metadata": {
        "colab": {
          "base_uri": "https://localhost:8080/"
        },
        "id": "d6VWbw70B76C",
        "outputId": "ae94d7d1-e1b9-4672-d369-9d7886f43949"
      },
      "execution_count": 12,
      "outputs": [
        {
          "output_type": "stream",
          "name": "stdout",
          "text": [
            "True\n",
            "True\n",
            "False\n"
          ]
        }
      ]
    },
    {
      "cell_type": "markdown",
      "source": [
        "# Connected Components"
      ],
      "metadata": {
        "id": "YUrqScOOzONg"
      }
    },
    {
      "cell_type": "code",
      "source": [
        "def connectedComponentsCount(graph):\n",
        "  visited = set()\n",
        "  count = 0\n",
        "  for node in graph:\n",
        "    if explore(graph, int(node), visited):\n",
        "      count += 1\n",
        "  return count\n",
        "\n",
        "def explore(graph, current, visited):\n",
        "  if current in visited:\n",
        "    return False\n",
        "  visited.add(current)\n",
        "  for neighbor in graph[current]:\n",
        "    explore(graph, neighbor, visited)\n",
        "\n",
        "  return True"
      ],
      "metadata": {
        "id": "OgOcTt_IC5R7"
      },
      "execution_count": 4,
      "outputs": []
    },
    {
      "cell_type": "code",
      "source": [
        "print(connectedComponentsCount({\n",
        "  0: [8, 1, 5],\n",
        "  1: [0],\n",
        "  5: [0, 8],\n",
        "  8: [0, 5],\n",
        "  2: [3, 4],\n",
        "  3: [2, 4],\n",
        "  4: [3, 2]\n",
        "}))\n",
        "\n",
        "print(connectedComponentsCount({\n",
        "  1: [2],\n",
        "  2: [1,8],\n",
        "  6: [7],\n",
        "  9: [8],\n",
        "  7: [6, 8],\n",
        "  8: [9, 7, 2]\n",
        "}))\n",
        "\n",
        "print(connectedComponentsCount({\n",
        "  3: [],\n",
        "  4: [6],\n",
        "  6: [4, 5, 7, 8],\n",
        "  8: [6],\n",
        "  7: [6],\n",
        "  5: [6],\n",
        "  1: [2],\n",
        "  2: [1]\n",
        "}))\n",
        "\n",
        "print(connectedComponentsCount({\n",
        "  0: [4,7],\n",
        "  1: [],\n",
        "  2: [],\n",
        "  3: [6],\n",
        "  4: [0],\n",
        "  6: [3],\n",
        "  7: [0],\n",
        "  8: []\n",
        "}))\n",
        "\n",
        "print(connectedComponentsCount({}))"
      ],
      "metadata": {
        "colab": {
          "base_uri": "https://localhost:8080/"
        },
        "id": "MsG9EWN30xBG",
        "outputId": "62c43cb1-8b31-425d-823e-4461e8a28c83"
      },
      "execution_count": 9,
      "outputs": [
        {
          "output_type": "stream",
          "name": "stdout",
          "text": [
            "2\n",
            "1\n",
            "3\n",
            "5\n",
            "0\n"
          ]
        }
      ]
    },
    {
      "cell_type": "markdown",
      "source": [
        "# Largest Component"
      ],
      "metadata": {
        "id": "_P_TVxYJAPc3"
      }
    },
    {
      "cell_type": "code",
      "source": [
        "def largestComponent(graph):\n",
        "  longest = 0\n",
        "  visited = set()\n",
        "  for node in graph:\n",
        "    size = exploreSize(graph, node, visited)\n",
        "    if size > longest:\n",
        "      longest = size\n",
        "  return longest\n",
        "\n",
        "def exploreSize(graph, node, visited):\n",
        "  if node in visited:\n",
        "    return 0\n",
        "\n",
        "  visited.add(node)\n",
        "\n",
        "  size = 1\n",
        "  for neighbor in graph[node]:\n",
        "    size += exploreSize(graph, neighbor, visited)\n",
        "\n",
        "  return size"
      ],
      "metadata": {
        "id": "PNY2rxEj03v0"
      },
      "execution_count": 12,
      "outputs": []
    },
    {
      "cell_type": "code",
      "source": [
        "print(largestComponent({\n",
        "  '0': ['8', '1', '5'],\n",
        "  '1': ['0'],\n",
        "  '5': ['0', '8'],\n",
        "  '8': ['0', '5'],\n",
        "  '2': ['3', '4'],\n",
        "  '3': ['2', '4'],\n",
        "  '4': ['3', '2']\n",
        "}))\n",
        "\n",
        "print(largestComponent({\n",
        "  '1': ['2'],\n",
        "  '2': ['1','8'],\n",
        "  '6': ['7'],\n",
        "  '9': ['8'],\n",
        "  '7': ['6', '8'],\n",
        "  '8': ['9', '7', '2']\n",
        "}))\n",
        "print(largestComponent({\n",
        "  '3': [],\n",
        "  '4': ['6'],\n",
        "  '6': ['4', '5', '7', '8'],\n",
        "  '8': ['6'],\n",
        "  '7': ['6'],\n",
        "  '5': ['6'],\n",
        "  '1': ['2'],\n",
        "  '2': ['1']\n",
        "}))\n",
        "print(largestComponent({}))\n",
        "print(largestComponent({\n",
        "  '0': ['4','7'],\n",
        "  '1': [],\n",
        "  '2': [],\n",
        "  '3': ['6'],\n",
        "  '4': ['0'],\n",
        "  '6': ['3'],\n",
        "  '7': ['0'],\n",
        "  '8': []\n",
        "}))"
      ],
      "metadata": {
        "colab": {
          "base_uri": "https://localhost:8080/"
        },
        "id": "i-vBqiHaBZUI",
        "outputId": "656b03b1-afee-43a9-e25d-e9e30764b52d"
      },
      "execution_count": 20,
      "outputs": [
        {
          "output_type": "stream",
          "name": "stdout",
          "text": [
            "4\n",
            "6\n",
            "5\n",
            "0\n",
            "3\n"
          ]
        }
      ]
    },
    {
      "cell_type": "code",
      "source": [],
      "metadata": {
        "colab": {
          "base_uri": "https://localhost:8080/"
        },
        "id": "mMfrwGspBa09",
        "outputId": "071af327-8480-4bda-dbba-30dffbf997b9"
      },
      "execution_count": 17,
      "outputs": [
        {
          "output_type": "stream",
          "name": "stdout",
          "text": [
            "5\n"
          ]
        }
      ]
    }
  ]
}