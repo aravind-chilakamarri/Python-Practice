{
  "nbformat": 4,
  "nbformat_minor": 0,
  "metadata": {
    "colab": {
      "provenance": [],
      "authorship_tag": "ABX9TyNsQww/99sjYHnE3BmVbfJ0",
      "include_colab_link": true
    },
    "kernelspec": {
      "name": "python3",
      "display_name": "Python 3"
    },
    "language_info": {
      "name": "python"
    }
  },
  "cells": [
    {
      "cell_type": "markdown",
      "metadata": {
        "id": "view-in-github",
        "colab_type": "text"
      },
      "source": [
        "<a href=\"https://colab.research.google.com/github/aravind-chilakamarri/Python-Practice/blob/main/Graphs.ipynb\" target=\"_parent\"><img src=\"https://colab.research.google.com/assets/colab-badge.svg\" alt=\"Open In Colab\"/></a>"
      ]
    },
    {
      "cell_type": "code",
      "execution_count": 10,
      "metadata": {
        "id": "LBfsgl35nQr3"
      },
      "outputs": [],
      "source": [
        "graph = {\n",
        "    'a' : ['c','b'],\n",
        "    'b' : ['d'],\n",
        "    'c' : ['e'],\n",
        "    'd' : ['f'],\n",
        "    'e' : [],\n",
        "    'f' : []\n",
        "};"
      ]
    },
    {
      "cell_type": "code",
      "source": [
        "# def depthFirstPrint(graph, root):\n",
        "#   stack = [root];\n",
        "\n",
        "#   while stack:\n",
        "#     current = stack.pop()\n",
        "#     print(current)\n",
        "#     for neighbor in graph[current]:\n",
        "#       stack.append(neighbor)\n",
        "\n",
        "def depthFirstPrint(graph, root):\n",
        "  print(root)\n",
        "  for neighbor in graph[root]:\n",
        "    depthFirstPrint(graph,neighbor)\n",
        "\n",
        "\n"
      ],
      "metadata": {
        "id": "BOR8deTpntih"
      },
      "execution_count": 6,
      "outputs": []
    },
    {
      "cell_type": "code",
      "source": [
        "from collections import deque\n",
        "def breadthFirstPrint(graph, root):\n",
        "  queue = deque([root])\n",
        "  while queue:\n",
        "    current = queue.popleft()\n",
        "    print(current)\n",
        "    for neighbor in graph[current]:\n",
        "      queue.append(neighbor)"
      ],
      "metadata": {
        "id": "luPtAqVxs-n6"
      },
      "execution_count": 8,
      "outputs": []
    },
    {
      "cell_type": "code",
      "source": [
        "depthFirstPrint(graph, 'a')"
      ],
      "metadata": {
        "colab": {
          "base_uri": "https://localhost:8080/"
        },
        "id": "AjC1HiVboxAO",
        "outputId": "d2e2561c-ead1-473c-dab3-841e06015362"
      },
      "execution_count": 7,
      "outputs": [
        {
          "output_type": "stream",
          "name": "stdout",
          "text": [
            "a\n",
            "b\n",
            "d\n",
            "f\n",
            "c\n",
            "e\n"
          ]
        }
      ]
    },
    {
      "cell_type": "code",
      "source": [
        "breadthFirstPrint(graph,'a')"
      ],
      "metadata": {
        "colab": {
          "base_uri": "https://localhost:8080/"
        },
        "id": "bZ-q24tkoz9Q",
        "outputId": "ba86eda2-902f-4206-c347-6487d1ebe1cc"
      },
      "execution_count": 11,
      "outputs": [
        {
          "output_type": "stream",
          "name": "stdout",
          "text": [
            "a\n",
            "c\n",
            "b\n",
            "e\n",
            "d\n",
            "f\n"
          ]
        }
      ]
    },
    {
      "cell_type": "markdown",
      "source": [
        "# Has Path"
      ],
      "metadata": {
        "id": "9qlADKR852LP"
      }
    },
    {
      "cell_type": "code",
      "source": [
        "graph = {\n",
        "\n",
        "         \"f\": [\"g\",\"i\"],\n",
        "         \"g\": [\"h\"],\n",
        "         \"h\": [],\n",
        "         \"i\": [\"g\",\"k\"],\n",
        "         \"j\": [\"i\"],\n",
        "         \"k\": []\n",
        "}"
      ],
      "metadata": {
        "id": "2hdVqVPa6tWM"
      },
      "execution_count": 12,
      "outputs": []
    },
    {
      "cell_type": "code",
      "source": [
        "#DFS\n",
        "def hasPath(graph, src,dest):\n",
        "  if (src == dest):\n",
        "    return True\n",
        "\n",
        "  for neighbor in graph[src]:\n",
        "    if hasPath(graph, neighbor, dest):\n",
        "      return True\n",
        "  return False"
      ],
      "metadata": {
        "id": "A6ft6KSqt15U"
      },
      "execution_count": 13,
      "outputs": []
    },
    {
      "cell_type": "code",
      "source": [
        "hasPath(graph, 'f','k')"
      ],
      "metadata": {
        "colab": {
          "base_uri": "https://localhost:8080/"
        },
        "id": "IPMvHoo_7EOU",
        "outputId": "2f0722ea-268c-42b1-9310-c82af8f51491"
      },
      "execution_count": 18,
      "outputs": [
        {
          "output_type": "execute_result",
          "data": {
            "text/plain": [
              "True"
            ]
          },
          "metadata": {},
          "execution_count": 18
        }
      ]
    },
    {
      "cell_type": "code",
      "source": [
        "#BFS\n",
        "def hasPathBfs(graph, src, dest):\n",
        "  queue = deque([src])\n",
        "\n",
        "  while queue:\n",
        "    current = queue.popleft()\n",
        "    if current == dest:\n",
        "      return True\n",
        "\n",
        "    for neighbor in graph[current]:\n",
        "      queue.append(neighbor)\n",
        "  return False"
      ],
      "metadata": {
        "id": "r5QzvaWQ7OIc"
      },
      "execution_count": 22,
      "outputs": []
    },
    {
      "cell_type": "code",
      "source": [
        "hasPathBfs(graph, 'f','k')"
      ],
      "metadata": {
        "colab": {
          "base_uri": "https://localhost:8080/"
        },
        "id": "pXS8WN4DCAxR",
        "outputId": "1c032dfc-4544-40a6-c863-6e6650dd3316"
      },
      "execution_count": 25,
      "outputs": [
        {
          "output_type": "execute_result",
          "data": {
            "text/plain": [
              "True"
            ]
          },
          "metadata": {},
          "execution_count": 25
        }
      ]
    },
    {
      "cell_type": "code",
      "source": [],
      "metadata": {
        "id": "9XzbwAldCHZR"
      },
      "execution_count": null,
      "outputs": []
    }
  ]
}