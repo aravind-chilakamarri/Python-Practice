{
  "nbformat": 4,
  "nbformat_minor": 0,
  "metadata": {
    "colab": {
      "provenance": [],
      "authorship_tag": "ABX9TyNQViY2TbBnH2+9mfaj7o1Q",
      "include_colab_link": true
    },
    "kernelspec": {
      "name": "python3",
      "display_name": "Python 3"
    },
    "language_info": {
      "name": "python"
    }
  },
  "cells": [
    {
      "cell_type": "markdown",
      "metadata": {
        "id": "view-in-github",
        "colab_type": "text"
      },
      "source": [
        "<a href=\"https://colab.research.google.com/github/aravind-chilakamarri/Python-Practice/blob/main/classes_practice.ipynb\" target=\"_parent\"><img src=\"https://colab.research.google.com/assets/colab-badge.svg\" alt=\"Open In Colab\"/></a>"
      ]
    },
    {
      "cell_type": "code",
      "execution_count": 8,
      "metadata": {
        "id": "vra5SJYEPjBl"
      },
      "outputs": [],
      "source": [
        "class Person:\n",
        "  def __init__(self, first_name, last_name, age, id, blood_group = 'unknown'):\n",
        "    self.first_name = first_name\n",
        "    self.last_name = last_name\n",
        "    self.age = age\n",
        "    self.id = id\n",
        "    self.blood_group = blood_group"
      ]
    },
    {
      "cell_type": "code",
      "source": [
        "class Student(Person):\n",
        "  def __init__(self, first_name, last_name, age, id, grade,  classes, blood_group = 'unknown'):\n",
        "    super().__init__(first_name, last_name, age, id,blood_group = 'unknown')\n",
        "    self.grade = grade\n",
        "    self.classes = classes"
      ],
      "metadata": {
        "id": "Rux7Ru3rUWrR"
      },
      "execution_count": 9,
      "outputs": []
    },
    {
      "cell_type": "code",
      "source": [
        "class Teacher(Person):\n",
        "  def __init__(self, first_name, last_name, age, id, course, experience, classes, blood_group = 'unknown'):\n",
        "    super().__init__(first_name, last_name, age, id,blood_group = 'unknown')\n",
        "    self.experience = experience\n",
        "    self.course = course\n",
        "    self.classes = classes"
      ],
      "metadata": {
        "id": "9Yne88amQMW2"
      },
      "execution_count": 10,
      "outputs": []
    },
    {
      "cell_type": "code",
      "source": [
        "class Staff(Person):\n",
        "  def __init__(self,first_name, last_name, age, id,department, job,blood_group = 'unknown'):\n",
        "    super().__init__(first_name, last_name, age, id,blood_group = 'unknown')\n",
        "    self.department = department\n",
        "    self.job = job"
      ],
      "metadata": {
        "id": "g80XmUuEQYVS"
      },
      "execution_count": 11,
      "outputs": []
    },
    {
      "cell_type": "code",
      "source": [
        "class Principal(Person):\n",
        "  def __init__(self,first_name, last_name, age, id,blood_group = 'unknown', teachers = None, students = None, staff = None):\n",
        "    super().__init__(first_name, last_name, age, id,blood_group = 'unknown')\n",
        "\n",
        "    if teachers is None:\n",
        "      self.teachers = []\n",
        "    else:\n",
        "      self.teachers = teachers\n",
        "    if staff is None:\n",
        "      self.staff = []\n",
        "    else:\n",
        "      self.staff = []\n",
        "    if students is None:\n",
        "      self.students = []\n",
        "    else:\n",
        "      self.students = students\n",
        "\n",
        "  def add_teacher(self, teacher):\n",
        "    if teacher not in self.teachers:\n",
        "      self.teachers.append(teacher)\n",
        "\n",
        "  def add_student(self, student):\n",
        "    if student not in self.students:\n",
        "      self.students.append(student)\n",
        "\n",
        "  def add_staff(self, staff_person):\n",
        "    if staff_person not in self.staff:\n",
        "      self.staff.append(staff_person)\n",
        "\n",
        "\n"
      ],
      "metadata": {
        "id": "rzX8pVdrQZTC"
      },
      "execution_count": 28,
      "outputs": []
    },
    {
      "cell_type": "code",
      "source": [
        "principal = Principal('Aravind','Chilakamarri',27,1,'A+')"
      ],
      "metadata": {
        "id": "rkT5MjAOXU75"
      },
      "execution_count": 29,
      "outputs": []
    },
    {
      "cell_type": "code",
      "source": [
        "student1 = Student('Joshit','Vadela',14,2,'9',['python','machine learning','AI'])\n",
        "\n",
        "principal.add_student(student1)"
      ],
      "metadata": {
        "id": "Xu9-vsH3X9u3"
      },
      "execution_count": 31,
      "outputs": []
    },
    {
      "cell_type": "code",
      "source": [
        "# List of 100 first names\n",
        "first_names = [\n",
        "    \"Emma\", \"Liam\", \"Olivia\", \"Noah\", \"Ava\", \"Oliver\", \"Isabella\", \"Elijah\", \"Sophia\", \"William\",\n",
        "    \"Charlotte\", \"James\", \"Amelia\", \"Benjamin\", \"Mia\", \"Lucas\", \"Harper\", \"Henry\", \"Evelyn\", \"Alexander\",\n",
        "    \"Abigail\", \"Daniel\", \"Emily\", \"Matthew\", \"Ella\", \"Jackson\", \"Victoria\", \"David\", \"Grace\", \"Joseph\",\n",
        "    \"Avery\", \"Samuel\", \"Scarlett\", \"Carter\", \"Madison\", \"Jayden\", \"Luna\", \"John\", \"Penelope\", \"Dylan\",\n",
        "    \"Chloe\", \"Gabriel\", \"Riley\", \"Michael\", \"Aria\", \"Leo\", \"Sofia\", \"Jack\", \"Aurora\", \"Levi\",\n",
        "    \"Mila\", \"Luke\", \"Layla\", \"Anthony\", \"Zoe\", \"Isaac\", \"Hannah\", \"Christopher\", \"Nora\", \"Andrew\",\n",
        "    \"Ellie\", \"Joshua\", \"Elizabeth\", \"Lincoln\", \"Addison\", \"Ethan\", \"Stella\", \"Ryan\", \"Lily\", \"Nathan\",\n",
        "    \"Paisley\", \"Caleb\", \"Nova\", \"Nicholas\", \"Eleanor\", \"Julian\", \"Violet\", \"Aaron\", \"Hazel\", \"Eli\",\n",
        "    \"Savannah\", \"Connor\", \"Brooklyn\", \"Brayden\", \"Audrey\", \"Hunter\", \"Claire\", \"Christian\", \"Skylar\", \"Adrian\",\n",
        "    \"Lucy\", \"Jonathan\", \"Bella\", \"Landon\", \"Natalie\", \"Charles\", \"Maya\", \"Jeremiah\", \"Lillian\", \"Thomas\"\n",
        "]\n",
        "\n",
        "# List of 100 last names\n",
        "last_names = [\n",
        "    \"Smith\", \"Johnson\", \"Williams\", \"Jones\", \"Brown\", \"Davis\", \"Miller\", \"Wilson\", \"Moore\", \"Taylor\",\n",
        "    \"Anderson\", \"Thomas\", \"Jackson\", \"White\", \"Harris\", \"Martin\", \"Thompson\", \"Garcia\", \"Martinez\", \"Robinson\",\n",
        "    \"Clark\", \"Rodriguez\", \"Lewis\", \"Lee\", \"Walker\", \"Hall\", \"Allen\", \"Young\", \"Hernandez\", \"King\",\n",
        "    \"Wright\", \"Lopez\", \"Hill\", \"Scott\", \"Green\", \"Adams\", \"Baker\", \"Gonzalez\", \"Nelson\", \"Carter\",\n",
        "    \"Mitchell\", \"Perez\", \"Roberts\", \"Turner\", \"Phillips\", \"Campbell\", \"Parker\", \"Evans\", \"Edwards\", \"Collins\",\n",
        "    \"Stewart\", \"Sanchez\", \"Morris\", \"Rogers\", \"Reed\", \"Cook\", \"Morgan\", \"Bell\", \"Murphy\", \"Bailey\",\n",
        "    \"Rivera\", \"Cooper\", \"Richardson\", \"Cox\", \"Howard\", \"Ward\", \"Torres\", \"Peterson\", \"Gray\", \"Ramirez\",\n",
        "    \"James\", \"Watson\", \"Brooks\", \"Sanders\", \"Price\", \"Bennett\", \"Wood\", \"Barnes\", \"Ross\", \"Henderson\",\n",
        "    \"Coleman\", \"Jenkins\", \"Perry\", \"Powell\", \"Long\", \"Patterson\", \"Hughes\", \"Flores\", \"Washington\", \"Butler\"\n",
        "]\n",
        "\n",
        "# List of 100 ages\n",
        "ages = [\n",
        "    25, 30, 22, 40, 18, 27, 35, 29, 31, 26, 33, 24, 39, 20, 28, 21, 36, 32, 23, 37,\n",
        "    34, 19, 41, 45, 29, 38, 26, 30, 22, 42, 31, 27, 35, 39, 24, 18, 33, 28, 37, 40,\n",
        "    25, 34, 21, 43, 19, 36, 31, 23, 38, 29, 30, 22, 27, 32, 20, 45, 39, 26, 24, 41,\n",
        "    35, 33, 18, 28, 37, 42, 31, 23, 40, 29, 30, 27, 22, 38, 26, 44, 19, 34, 21, 36,\n",
        "    25, 31, 32, 39, 20, 45, 28, 33, 37, 23, 42, 29, 24, 35, 41, 18, 30, 26, 38, 27\n",
        "]\n",
        "\n",
        "# List of 100 IDs\n",
        "ids = [\n",
        "    \"ID001\", \"ID002\", \"ID003\", \"ID004\", \"ID005\", \"ID006\", \"ID007\", \"ID008\", \"ID009\", \"ID010\",\n",
        "    \"ID011\", \"ID012\", \"ID013\", \"ID014\", \"ID015\", \"ID016\", \"ID017\", \"ID018\", \"ID019\", \"ID020\",\n",
        "    \"ID021\", \"ID022\", \"ID023\", \"ID024\", \"ID025\", \"ID026\", \"ID027\", \"ID028\", \"ID029\", \"ID030\",\n",
        "    \"ID031\", \"ID032\", \"ID033\", \"ID034\", \"ID035\", \"ID036\", \"ID037\", \"ID038\", \"ID039\", \"ID040\",\n",
        "    \"ID041\", \"ID042\", \"ID043\", \"ID044\", \"ID045\", \"ID046\", \"ID047\", \"ID048\", \"ID049\", \"ID050\",\n",
        "    \"ID051\", \"ID052\", \"ID053\", \"ID054\", \"ID055\", \"ID056\", \"ID057\", \"ID058\", \"ID059\", \"ID060\",\n",
        "    \"ID061\", \"ID062\", \"ID063\", \"ID064\", \"ID065\", \"ID066\", \"ID067\", \"ID068\", \"ID069\", \"ID070\",\n",
        "    \"ID071\", \"ID072\", \"ID073\", \"ID074\", \"ID075\", \"ID076\", \"ID077\", \"ID078\", \"ID079\", \"ID080\",\n",
        "    \"ID081\", \"ID082\", \"ID083\", \"ID084\", \"ID085\", \"ID086\", \"ID087\", \"ID088\", \"ID089\", \"ID090\",\n",
        "    \"ID091\", \"ID092\", \"ID093\", \"ID094\", \"ID095\", \"ID096\", \"ID097\", \"ID098\", \"ID099\", \"ID100\"\n",
        "]\n",
        "\n",
        "# List of 100 single digit numbers\n",
        "grades = [\n",
        "    0, 1, 2, 3, 4, 5, 6, 7, 8, 9,\n",
        "    0, 1, 2, 3, 4, 5, 6, 7, 8, 9,\n",
        "    0, 1, 2, 3, 4, 5, 6, 7, 8, 9,\n",
        "    0, 1, 2, 3, 4, 5, 6, 7, 8, 9,\n",
        "    0, 1, 2, 3, 4, 5, 6, 7, 8, 9,\n",
        "    0, 1, 2, 3, 4, 5, 6, 7, 8, 9,\n",
        "    0, 1, 2, 3, 4, 5, 6, 7, 8, 9,\n",
        "    0, 1, 2, 3, 4, 5, 6, 7, 8, 9,\n",
        "    0, 1, 2, 3, 4, 5, 6, 7, 8, 9,\n",
        "    0, 1, 2, 3, 4, 5, 6, 7, 8, 9\n",
        "]\n",
        "\n",
        "\n",
        "\n",
        "\n",
        "# List of 100 lists of programming languages\n",
        "courses = [\n",
        "    [\"Python\", \"JavaScript\", \"Java\"],\n",
        "    [\"C++\", \"Ruby\", \"Swift\"],\n",
        "    [\"C#\", \"PHP\", \"Go\"],\n",
        "    [\"Rust\", \"TypeScript\", \"Kotlin\"],\n",
        "    [\"HTML\", \"CSS\", \"Scala\"],\n",
        "    [\"Objective-C\", \"Perl\", \"Haskell\"],\n",
        "    [\"Lisp\", \"Shell\", \"Lua\"],\n",
        "    [\"Assembly\", \"Dart\", \"F#\"],\n",
        "    [\"Groovy\", \"VB.NET\", \"Clojure\"],\n",
        "    [\"MATLAB\", \"Delphi\", \"Fortran\"],\n",
        "    [\"Julia\", \"PowerShell\", \"Scheme\"],\n",
        "    [\"R\", \"COBOL\", \"Ada\"],\n",
        "    [\"ABAP\", \"Apex\", \"Bash\"],\n",
        "    [\"Erlang\", \"Scratch\", \"LabVIEW\"],\n",
        "    [\"Prolog\", \"Turing\", \"COOL\"],\n",
        "    [\"Alice\", \"Snap!\", \"Blockly\"],\n",
        "    [\"Logo\", \"Smalltalk\", \"Forth\"],\n",
        "    [\"D\", \"Elixir\", \"Crystal\"],\n",
        "    [\"Pascal\", \"PL/SQL\", \"VHDL\"],\n",
        "    [\"Verilog\", \"KDB+\", \"XQuery\"],\n",
        "    [\"XPath\", \"XSLT\", \"Euphoria\"],\n",
        "    [\"Fantom\", \"Pike\", \"OpenCL\"],\n",
        "    [\"Racket\", \"Erlang\", \"Fantom\"],\n",
        "    [\"MQL4\", \"MQL5\", \"PureScript\"],\n",
        "    [\"Etoys\", \"RPG\", \"Ballerina\"],\n",
        "    [\"PostScript\", \"Wolfram\", \"Tcl\"],\n",
        "    [\"Eiffel\", \"Elm\", \"Awk\"],\n",
        "    [\"Emacs Lisp\", \"JScript\", \"Pure Data\"],\n",
        "    [\"Q#\", \"Opa\", \"ActionScript\"],\n",
        "    [\"Objective-J\", \"Clarion\", \"ColdFusion\"],\n",
        "    [\"Ring\", \"LilyPond\", \"Ceylon\"],\n",
        "    [\"Idris\", \"TADS\", \"Chapel\"],\n",
        "    [\"Io\", \"PogoScript\", \"WebAssembly\"],\n",
        "    [\"FORTRAN\", \"M2001\", \"OpenEdge ABL\"],\n",
        "    [\"Haxe\", \"LiveScript\", \"ECL\"],\n",
        "    [\"Scilab\", \"XC\", \"PILOT\"],\n",
        "    [\"PL/I\", \"REBOL\", \"ICI\"],\n",
        "    [\"Nim\", \"Vala\", \"BitC\"],\n",
        "    [\"Boo\", \"SAS\", \"Ember.js\"],\n",
        "    [\"J#\", \"Red\", \"Rust\"],\n",
        "    [\"NewLISP\", \"PureScript\", \"JASS\"],\n",
        "    [\"Mirah\", \"Sather\", \"Idris\"],\n",
        "    [\"Mesa\", \"REXX\", \"PowerShell\"],\n",
        "    [\"Limbo\", \"Elixir\", \"Haxe\"],\n",
        "    [\"NXT-G\", \"Pawn\", \"Ring\"],\n",
        "    [\"Xtend\", \"Xojo\", \"Hack\"],\n",
        "    [\"CIL\", \"Oxygene\", \"Pico\"],\n",
        "    [\"Cython\", \"ANTLR\", \"Csound\"],\n",
        "    [\"ChucK\", \"Mojolicious\", \"XC\"],\n",
        "    [\"nesC\", \"NSIS\", \"Processing\"],\n",
        "    [\"Red\", \"KRL\", \"ATS\"],\n",
        "    [\"UnrealScript\", \"Component Pascal\", \"ooc\"],\n",
        "    [\"PureScript\", \"Chapel\", \"APL\"],\n",
        "    [\"Squirrel\", \"Dogescript\", \"Pony\"],\n",
        "    [\"Swift\", \"Standard ML\", \"Dylan\"],\n",
        "    [\"Self\", \"SQF\", \"Bluespec\"],\n",
        "    [\"Boomerang\", \"ABAP\", \"Pike\"],\n",
        "    [\"Ateji PX\", \"OpenCL\", \"Q#\"],\n",
        "    [\"VHDL\", \"J\", \"ABAP\"],\n",
        "    [\"XL\", \"SISAL\", \"Gosu\"],\n",
        "    [\"RPG\", \"M2001\", \"LabVIEW\"],\n",
        "    [\"Factor\", \"PL/SQL\", \"Alice\"],\n",
        "    [\"Cilk\", \"Lua\", \"Apex\"],\n",
        "    [\"Fantom\", \"Pike\", \"OpenCL\"],\n",
        "    [\"Verilog\", \"KDB+\", \"XQuery\"],\n",
        "    [\"XPath\", \"XSLT\", \"Euphoria\"],\n",
        "    [\"Fantom\", \"Pike\", \"OpenCL\"],\n",
        "    [\"Racket\", \"Erlang\", \"Fantom\"],\n",
        "    [\"MQL4\", \"MQL5\", \"PureScript\"],\n",
        "    [\"Etoys\", \"RPG\", \"Ballerina\"],\n",
        "    [\"PostScript\", \"Wolfram\", \"Tcl\"],\n",
        "    [\"Eiffel\", \"Elm\", \"Awk\"],\n",
        "    [\"Emacs Lisp\", \"JScript\", \"Pure Data\"],\n",
        "    [\"Q#\", \"Opa\", \"ActionScript\"],\n",
        "    [\"Objective-J\", \"Clarion\", \"ColdFusion\"],\n",
        "    [\"Ring\", \"LilyPond\", \"Ceylon\"],\n",
        "    [\"Idris\", \"TADS\", \"Chapel\"],\n",
        "    [\"Io\", \"PogoScript\", \"WebAssembly\"]\n",
        "]\n",
        "\n",
        "# List of 100 blood groups\n",
        "blood_groups = [\n",
        "    'A+', 'A-', 'B+', 'B-', 'AB+', 'AB-', 'O+', 'O-',\n",
        "    'A+', 'A-', 'B+', 'B-', 'AB+', 'AB-', 'O+', 'O-',\n",
        "    'A+', 'A-', 'B+', 'B-', 'AB+', 'AB-', 'O+', 'O-',\n",
        "    'A+', 'A-', 'B+', 'B-', 'AB+', 'AB-', 'O+', 'O-',\n",
        "    'A+', 'A-', 'B+', 'B-', 'AB+', 'AB-', 'O+', 'O-',\n",
        "    'A+', 'A-', 'B+', 'B-', 'AB+', 'AB-', 'O+', 'O-',\n",
        "    'A+', 'A-', 'B+', 'B-', 'AB+', 'AB-', 'O+', 'O-',\n",
        "    'A+', 'A-', 'B+', 'B-', 'AB+', 'AB-', 'O+', 'O-',\n",
        "    'A+', 'A-', 'B+', 'B-', 'AB+', 'AB-', 'O+', 'O-',\n",
        "    'A+', 'A-', 'B+', 'B-', 'AB+', 'AB-', 'O+', 'O-'\n",
        "]\n"
      ],
      "metadata": {
        "id": "LYeDHcjWY8H4"
      },
      "execution_count": 34,
      "outputs": []
    },
    {
      "cell_type": "code",
      "source": [
        "for first_name, last_name, age, id, grade, course, blood_group in zip(first_names, last_names, ages, ids, grades, courses, blood_groups):\n",
        "  student = Student(first_name, last_name, age, id, grade, course,blood_group)\n",
        "  principal.add_student(student)"
      ],
      "metadata": {
        "id": "UsgzeVYvcd6P"
      },
      "execution_count": 37,
      "outputs": []
    },
    {
      "cell_type": "code",
      "source": [
        "len(principal.students)"
      ],
      "metadata": {
        "colab": {
          "base_uri": "https://localhost:8080/"
        },
        "id": "LJKA6wyhdibx",
        "outputId": "51b6614c-3894-40fd-fbd9-420d5d1336df"
      },
      "execution_count": 39,
      "outputs": [
        {
          "output_type": "execute_result",
          "data": {
            "text/plain": [
              "79"
            ]
          },
          "metadata": {},
          "execution_count": 39
        }
      ]
    },
    {
      "cell_type": "code",
      "source": [
        "len(courses)"
      ],
      "metadata": {
        "colab": {
          "base_uri": "https://localhost:8080/"
        },
        "id": "qixtdWsxeTmo",
        "outputId": "07200834-3e59-48f1-cd1e-e27513af3101"
      },
      "execution_count": 47,
      "outputs": [
        {
          "output_type": "execute_result",
          "data": {
            "text/plain": [
              "78"
            ]
          },
          "metadata": {},
          "execution_count": 47
        }
      ]
    },
    {
      "cell_type": "code",
      "source": [],
      "metadata": {
        "id": "crg3xoGGeiNH"
      },
      "execution_count": null,
      "outputs": []
    }
  ]
}