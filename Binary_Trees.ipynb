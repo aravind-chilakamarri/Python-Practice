{
  "nbformat": 4,
  "nbformat_minor": 0,
  "metadata": {
    "colab": {
      "provenance": [],
      "authorship_tag": "ABX9TyOjsDgvSZiSKEzNk+SSkIub",
      "include_colab_link": true
    },
    "kernelspec": {
      "name": "python3",
      "display_name": "Python 3"
    },
    "language_info": {
      "name": "python"
    }
  },
  "cells": [
    {
      "cell_type": "markdown",
      "metadata": {
        "id": "view-in-github",
        "colab_type": "text"
      },
      "source": [
        "<a href=\"https://colab.research.google.com/github/aravind-chilakamarri/Python-Practice/blob/main/Binary_Trees.ipynb\" target=\"_parent\"><img src=\"https://colab.research.google.com/assets/colab-badge.svg\" alt=\"Open In Colab\"/></a>"
      ]
    },
    {
      "cell_type": "code",
      "execution_count": 17,
      "metadata": {
        "id": "Fr6dbfznFbsp"
      },
      "outputs": [],
      "source": [
        "#\n",
        "\n",
        "\n",
        "class Node:\n",
        "  def __init__(self, value):\n",
        "    self.value = value\n",
        "    self.left = None\n",
        "    self.right = None\n",
        "\n"
      ]
    },
    {
      "cell_type": "code",
      "source": [
        "a = Node('a')\n",
        "b = Node('b')\n",
        "c = Node('c')\n",
        "d = Node('d')\n",
        "e = Node('e')\n",
        "f = Node('f')"
      ],
      "metadata": {
        "id": "OuNAxOv6GN4v"
      },
      "execution_count": 18,
      "outputs": []
    },
    {
      "cell_type": "code",
      "source": [
        "# a\n",
        "# /\\\n",
        "# b c\n",
        "# /\\ \\\n",
        "# d e f\n",
        "\n",
        "a.left = b\n",
        "a.right = c\n",
        "b.left = d\n",
        "d.right = e\n",
        "c.right = f"
      ],
      "metadata": {
        "id": "G3k1YtxPGZEH"
      },
      "execution_count": 19,
      "outputs": []
    },
    {
      "cell_type": "code",
      "source": [
        "# DEPTH FIRST SEARCH ITERATIVE METHOD\n",
        "\n",
        "def depthFirstValues(root):\n",
        "  if root is None:\n",
        "    return []\n",
        "  result = []\n",
        "  stack = [root]\n",
        "  while len(stack) > 0:\n",
        "    current = stack.pop()\n",
        "    result.append(current.value)\n",
        "    if current.right:\n",
        "      stack.append(current.right)\n",
        "    if current.left:\n",
        "      stack.append(current.left)\n",
        "  return result"
      ],
      "metadata": {
        "id": "V1l5bWMsGre9"
      },
      "execution_count": 20,
      "outputs": []
    },
    {
      "cell_type": "code",
      "source": [
        "depthFirstValues(a)"
      ],
      "metadata": {
        "colab": {
          "base_uri": "https://localhost:8080/"
        },
        "id": "vN8iZGkyG_WV",
        "outputId": "b91e9382-8fe9-4103-f198-be5140428628"
      },
      "execution_count": 21,
      "outputs": [
        {
          "output_type": "execute_result",
          "data": {
            "text/plain": [
              "['a', 'b', 'd', 'e', 'c', 'f']"
            ]
          },
          "metadata": {},
          "execution_count": 21
        }
      ]
    },
    {
      "cell_type": "code",
      "source": [
        "# DEPTH FIRST SEARCH RECURSIVE METHOD\n",
        "\n",
        "def depthFirstValuesRecursive(root):\n",
        "  if root is None:\n",
        "    return []\n",
        "\n",
        "  left_values = depthFirstValuesRecursive(root.left)\n",
        "  right_values = depthFirstValuesRecursive(root.right)\n",
        "\n",
        "  return [ root.value, *left_values, *right_values ]"
      ],
      "metadata": {
        "id": "7bR4NiOJMm5G"
      },
      "execution_count": 22,
      "outputs": []
    },
    {
      "cell_type": "code",
      "source": [
        "depthFirstValuesRecursive(a)"
      ],
      "metadata": {
        "colab": {
          "base_uri": "https://localhost:8080/"
        },
        "id": "qLnU0jRyRdYb",
        "outputId": "e5b15056-84f6-4deb-fb4f-5dd52ebc889a"
      },
      "execution_count": 23,
      "outputs": [
        {
          "output_type": "execute_result",
          "data": {
            "text/plain": [
              "['a', 'b', 'd', 'e', 'c', 'f']"
            ]
          },
          "metadata": {},
          "execution_count": 23
        }
      ]
    },
    {
      "cell_type": "code",
      "source": [
        "#Breadth First Search\n",
        "\n",
        "from collections import deque\n",
        "\n",
        "def breadthFirstValues(root):\n",
        "  if root == None: return []\n",
        "  queue = deque([root])\n",
        "  values = []\n",
        "\n",
        "  while queue:\n",
        "    current = queue.popleft()\n",
        "    values.append(current.value)\n",
        "    if current.left:\n",
        "      queue.append(current.left)\n",
        "    if current.right:\n",
        "      queue.append(current.right)\n",
        "\n",
        "  return values"
      ],
      "metadata": {
        "id": "hLW02grpR5nF"
      },
      "execution_count": 24,
      "outputs": []
    },
    {
      "cell_type": "code",
      "source": [
        "breadthFirstValues(a)"
      ],
      "metadata": {
        "colab": {
          "base_uri": "https://localhost:8080/"
        },
        "id": "MWJrVT0g5iVX",
        "outputId": "d01006b9-c68e-44a6-b868-a4ab61eeb02c"
      },
      "execution_count": 25,
      "outputs": [
        {
          "output_type": "execute_result",
          "data": {
            "text/plain": [
              "['a', 'b', 'c', 'd', 'f', 'e']"
            ]
          },
          "metadata": {},
          "execution_count": 25
        }
      ]
    },
    {
      "cell_type": "code",
      "source": [
        "# Breadth First Search Recursive\n",
        "\n",
        "from collections import deque\n",
        "\n",
        "def breadthFirstValuesRecursive(root):\n",
        "  if root == None: return []\n",
        "\n",
        "  def traverse(queue, values):\n",
        "        if not queue:\n",
        "            return values\n",
        "\n",
        "        current = queue.popleft()\n",
        "        values.append(current.value)\n",
        "\n",
        "        if current.left:\n",
        "            queue.append(current.left)\n",
        "        if current.right:\n",
        "            queue.append(current.right)\n",
        "\n",
        "        return traverse(queue, values)\n",
        "  return traverse(deque([root]), [])\n"
      ],
      "metadata": {
        "id": "JTCXjTY85sYt"
      },
      "execution_count": 26,
      "outputs": []
    },
    {
      "cell_type": "code",
      "source": [
        "breadthFirstValuesRecursive(a)"
      ],
      "metadata": {
        "colab": {
          "base_uri": "https://localhost:8080/"
        },
        "id": "wbT4PI3_9UAk",
        "outputId": "f11743fd-6223-4974-c95a-0f67c20de4e1"
      },
      "execution_count": 27,
      "outputs": [
        {
          "output_type": "execute_result",
          "data": {
            "text/plain": [
              "['a', 'b', 'c', 'd', 'f', 'e']"
            ]
          },
          "metadata": {},
          "execution_count": 27
        }
      ]
    },
    {
      "cell_type": "code",
      "source": [],
      "metadata": {
        "id": "l4e2FvZ19Wo7"
      },
      "execution_count": 27,
      "outputs": []
    }
  ]
}